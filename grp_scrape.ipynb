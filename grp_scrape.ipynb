{
 "cells": [
  {
   "cell_type": "code",
   "execution_count": 1,
   "metadata": {},
   "outputs": [],
   "source": [
    "from bs4 import BeautifulSoup\n",
    "import pandas as pd\n",
    "from selenium import webdriver\n",
    "import requests\n",
    "from selenium.webdriver.common.keys import Keys"
   ]
  },
  {
   "cell_type": "code",
   "execution_count": 12,
   "metadata": {},
   "outputs": [
    {
     "data": {
      "text/plain": [
       "[{'title': <a name=\"melillo\"></a>},\n",
       " {'title': <a name=\"arnold\"></a>},\n",
       " {'title': <a name=\"austin\"></a>},\n",
       " {'title': None},\n",
       " {'title': <a name=\"barnes\"></a>},\n",
       " {'title': None},\n",
       " {'title': <a name=\"busalacchi\"></a>},\n",
       " {'title': None},\n",
       " {'title': <a name=\"bulusu\"></a>},\n",
       " {'title': None},\n",
       " {'title': <a name=\"fontham\"></a>},\n",
       " {'title': None},\n",
       " {'title': <a name=\"freeman\"></a>},\n",
       " {'title': <a name=\"gaffney\"></a>},\n",
       " {'title': <a name=\"graham\"></a>},\n",
       " {'title': None},\n",
       " {'title': <a name=\"gutmann\"></a>},\n",
       " {'title': None},\n",
       " {'title': <a name=\"hanson\"></a>},\n",
       " {'title': None},\n",
       " {'title': <a name=\"lehnert\"></a>},\n",
       " {'title': None},\n",
       " {'title': <a name=\"macrander\"></a>},\n",
       " {'title': None},\n",
       " {'title': <a name=\"marras\"></a>},\n",
       " {'title': <a name=\"maybrett\"></a>},\n",
       " {'title': None},\n",
       " {'title': <a name=\"moran\"></a>},\n",
       " {'title': None},\n",
       " {'title': <a name=\"plough\"></a>},\n",
       " {'title': None},\n",
       " {'title': <a name=\"ritchie\"></a>},\n",
       " {'title': None},\n",
       " {'title': <a name=\"samet\"></a>},\n",
       " {'title': None},\n",
       " {'title': <a name=\"sears\"></a>},\n",
       " {'title': None},\n",
       " {'title': <a name=\"sarukhan\"></a>},\n",
       " {'title': None}]"
      ]
     },
     "execution_count": 12,
     "metadata": {},
     "output_type": "execute_result"
    }
   ],
   "source": [
    "driver = webdriver.Chrome('C:/Users/hanna/chromedriver/chromedriver.exe') \n",
    "\n",
    "url = \"http://www.nationalacademies.org/gulf/bios/index.html\"\n",
    "driver.get(url)\n",
    "\n",
    "\n",
    "person = []\n",
    "\n",
    "html = driver.page_source\n",
    "soup = BeautifulSoup(html, 'html.parser')\n",
    "\n",
    "peoples = soup.findAll('span', class_ = \"Title\")\n",
    "#bio = peoples.findAll('span', class_ = \"BodyTextDouble\")\n",
    "\n",
    "\n",
    "for people in peoples:\n",
    "    title = people.find(\"a\")\n",
    "    person.append({\"title\": title})\n",
    "    \n",
    "person"
   ]
  },
  {
   "cell_type": "code",
   "execution_count": null,
   "metadata": {},
   "outputs": [],
   "source": []
  }
 ],
 "metadata": {
  "kernelspec": {
   "display_name": "Python 3",
   "language": "python",
   "name": "python3"
  },
  "language_info": {
   "codemirror_mode": {
    "name": "ipython",
    "version": 3
   },
   "file_extension": ".py",
   "mimetype": "text/x-python",
   "name": "python",
   "nbconvert_exporter": "python",
   "pygments_lexer": "ipython3",
   "version": "3.6.4"
  }
 },
 "nbformat": 4,
 "nbformat_minor": 2
}
