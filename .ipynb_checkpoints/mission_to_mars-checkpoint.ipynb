{
 "cells": [
  {
   "cell_type": "code",
   "execution_count": 19,
   "metadata": {},
   "outputs": [],
   "source": [
    "from bs4 import BeautifulSoup\n",
    "import pandas as pd\n",
    "from selenium import webdriver\n",
    "import requests\n",
    "from selenium.webdriver.common.keys import Keys\n",
    "\n"
   ]
  },
  {
   "cell_type": "markdown",
   "metadata": {},
   "source": [
    "## NASA Mars News"
   ]
  },
  {
   "cell_type": "code",
   "execution_count": 20,
   "metadata": {},
   "outputs": [
    {
     "name": "stdout",
     "output_type": "stream",
     "text": [
      "[\"Six Things About Opportunity's Recovery Efforts\", 'The global dust storm on Mars could soon let in enough sunlight for the Opportunity rover to recharge.']\n"
     ]
    }
   ],
   "source": [
    "driver = webdriver.Chrome('C:/Users/hanna/chromedriver/chromedriver.exe') \n",
    "\n",
    "news_url = \"https://mars.nasa.gov/news/?page=0&per_page=40&order=publish_date+desc%2Ccreated_at+desc&search=&category=19%2C165%2C184%2C204&blank_scope=Latest\"\n",
    "driver.get(news_url)\n",
    "\n",
    "html = driver.page_source\n",
    "soup = BeautifulSoup(html, 'html.parser')\n",
    "\n",
    "news_title = soup.find(\"div\", class_ = \"content_title\").text\n",
    "news_content = soup.find(\"div\", class_ = \"article_teaser_body\").text\n",
    "\n",
    "news = [news_title, news_content]\n",
    "\n",
    "print(news)"
   ]
  },
  {
   "cell_type": "markdown",
   "metadata": {},
   "source": [
    "## NASA Featured Image \n"
   ]
  },
  {
   "cell_type": "code",
   "execution_count": 21,
   "metadata": {},
   "outputs": [
    {
     "name": "stdout",
     "output_type": "stream",
     "text": [
      "https://www.jpl.nasa.gov/spaceimages/?search=&category=Mars/spaceimages/images/mediumsize/PIA16815_ip.jpg\n"
     ]
    }
   ],
   "source": [
    "driver = webdriver.Chrome('C:/Users/hanna/chromedriver/chromedriver.exe')\n",
    "\n",
    "image_url = \"https://www.jpl.nasa.gov/spaceimages/?search=&category=Mars\"\n",
    "driver.get(image_url)\n",
    "\n",
    "html = driver.page_source\n",
    "soup = BeautifulSoup(html, 'html.parser')\n",
    "\n",
    "images = soup.find(\"a\", class_ = \"button fancybox\")\n",
    "\n",
    "featured_image_url = image_url + images.get('data-fancybox-href')\n",
    "\n",
    "for image in images:\n",
    "    print(featured_image_url)\n",
    "    "
   ]
  },
  {
   "cell_type": "markdown",
   "metadata": {},
   "source": [
    "## Mars Weather Tweet"
   ]
  },
  {
   "cell_type": "code",
   "execution_count": 22,
   "metadata": {
    "scrolled": true
   },
   "outputs": [
    {
     "name": "stdout",
     "output_type": "stream",
     "text": [
      "b'Clearing skies following the Mars dust storm are evident in these images by @TerryLovejoy66pic.twitter.com/tYjUY1UjFn'\n",
      "b'Sol 2140 (2018-08-13), high -10C/14F, low -70C/-93F, pressure at 8.58 hPa, daylight 05:27-17:40'\n",
      "b'Sol 2139 (2018-08-12), high -11C/12F, low -70C/-93F, pressure at 8.57 hPa, daylight 05:27-17:40'\n",
      "b'Sol 2138 (2018-08-11), high -16C/3F, low -68C/-90F, pressure at 8.58 hPa, daylight 05:26-17:39'\n",
      "b'Sol 2137 (2018-08-10), high -13C/8F, low -66C/-86F, pressure at 8.57 hPa, daylight 05:26-17:38'\n",
      "b'Sol 2136 (2018-08-09), high -13C/8F, low -66C/-86F, pressure at 8.56 hPa, daylight 05:26-17:38'\n",
      "b'Sol 2135 (2018-08-08), high -15C/5F, low -66C/-86F, pressure at 8.54 hPa, daylight 05:25-17:37'\n",
      "b'Sol 2134 (2018-08-07), high -14C/6F, low -65C/-84F, pressure at 8.51 hPa, daylight 05:25-17:37'\n",
      "b'Sol 2133 (2018-08-06), high -18C/0F, low -65C/-84F, pressure at 8.49 hPa, daylight 05:24-17:37'\n",
      "b'Sol 2132 (2018-08-05), high -16C/3F, low -69C/-92F, pressure at 8.47 hPa, daylight 05:24-17:36'\n",
      "b'Sol 2131 (2018-08-04), high -21C/-5F, low -67C/-88F, pressure at 8.46 hPa, daylight 05:24-17:36'\n",
      "b'Sol 2130 (2018-08-03), high -18C/0F, low -62C/-79F, pressure at 8.44 hPa, daylight 05:24-17:35'\n",
      "b'Sol 2129 (2018-08-02), high -21C/-5F, low -66C/-86F, pressure at 8.43 hPa, daylight 05:23-17:35'\n",
      "b'Sol 2128 (2018-08-01), high -20C/-3F, low -65C/-84F, pressure at 8.41 hPa, daylight 05:23-17:34'\n",
      "b'Sol 2127 (2018-07-31), high -18C/0F, low -69C/-92F, pressure at 8.38 hPa, daylight 05:23-17:34'\n",
      "b'Sol 2126 (2018-07-30), high -18C/0F, low -63C/-81F, pressure at 8.37 hPa, daylight 05:22-17:33'\n",
      "b'Sol 2125 (2018-07-29), high -17C/1F, low -66C/-86F, pressure at 8.34 hPa, daylight 05:22-17:33'\n",
      "b'Sol 2124 (2018-07-28), high -17C/1F, low -67C/-88F, pressure at 8.32 hPa, daylight 05:22-17:33'\n",
      "b'Sol 2123 (2018-07-27), high -18C/0F, low -68C/-90F, pressure at 8.31 hPa, daylight 05:22-17:32'\n",
      "b'Sol 2122 (2018-07-26), high -14C/6F, low -63C/-81F, pressure at 8.30 hPa, daylight 05:21-17:32'\n"
     ]
    }
   ],
   "source": [
    "driver = webdriver.Chrome('C:/Users/hanna/chromedriver/chromedriver.exe')\n",
    "\n",
    "twitter_url = \"https://twitter.com/marswxreport?lang=en\"\n",
    "\n",
    "html = driver.page_source\n",
    "response = requests.get(url)\n",
    "soup = BeautifulSoup(response.text,\"lxml\")\n",
    "tweets = soup.findAll('li',{\"class\":'js-stream-item'})\n",
    "\n",
    "tweet_records = []\n",
    "\n",
    "for tweet in tweets:\n",
    "    if tweet.find('p',{\"class\":'tweet-text'}):\n",
    "        tweet_text = tweet.find('p',{\"class\":'tweet-text'}).text.encode('utf8').strip()\n",
    "        tweet_records.append(tweet_text)\n",
    "        print(tweet_text)\n",
    "    else:\n",
    "        continue"
   ]
  },
  {
   "cell_type": "code",
   "execution_count": 23,
   "metadata": {},
   "outputs": [
    {
     "data": {
      "text/plain": [
       "b'Sol 2140 (2018-08-13), high -10C/14F, low -70C/-93F, pressure at 8.58 hPa, daylight 05:27-17:40'"
      ]
     },
     "execution_count": 23,
     "metadata": {},
     "output_type": "execute_result"
    }
   ],
   "source": [
    "mars_weather = tweet_records[1]\n",
    "mars_weather"
   ]
  },
  {
   "cell_type": "markdown",
   "metadata": {},
   "source": [
    "## Mars Facts Table"
   ]
  },
  {
   "cell_type": "code",
   "execution_count": 26,
   "metadata": {},
   "outputs": [
    {
     "data": {
      "text/html": [
       "<div>\n",
       "<style scoped>\n",
       "    .dataframe tbody tr th:only-of-type {\n",
       "        vertical-align: middle;\n",
       "    }\n",
       "\n",
       "    .dataframe tbody tr th {\n",
       "        vertical-align: top;\n",
       "    }\n",
       "\n",
       "    .dataframe thead th {\n",
       "        text-align: right;\n",
       "    }\n",
       "</style>\n",
       "<table border=\"1\" class=\"dataframe\">\n",
       "  <thead>\n",
       "    <tr style=\"text-align: right;\">\n",
       "      <th></th>\n",
       "      <th>Value</th>\n",
       "    </tr>\n",
       "    <tr>\n",
       "      <th>Description</th>\n",
       "      <th></th>\n",
       "    </tr>\n",
       "  </thead>\n",
       "  <tbody>\n",
       "    <tr>\n",
       "      <th>Equatorial Diameter:</th>\n",
       "      <td>6,792 km</td>\n",
       "    </tr>\n",
       "    <tr>\n",
       "      <th>Polar Diameter:</th>\n",
       "      <td>6,752 km</td>\n",
       "    </tr>\n",
       "    <tr>\n",
       "      <th>Mass:</th>\n",
       "      <td>6.42 x 10^23 kg (10.7% Earth)</td>\n",
       "    </tr>\n",
       "    <tr>\n",
       "      <th>Moons:</th>\n",
       "      <td>2 (Phobos &amp; Deimos)</td>\n",
       "    </tr>\n",
       "    <tr>\n",
       "      <th>Orbit Distance:</th>\n",
       "      <td>227,943,824 km (1.52 AU)</td>\n",
       "    </tr>\n",
       "    <tr>\n",
       "      <th>Orbit Period:</th>\n",
       "      <td>687 days (1.9 years)</td>\n",
       "    </tr>\n",
       "    <tr>\n",
       "      <th>Surface Temperature:</th>\n",
       "      <td>-153 to 20 °C</td>\n",
       "    </tr>\n",
       "    <tr>\n",
       "      <th>First Record:</th>\n",
       "      <td>2nd millennium BC</td>\n",
       "    </tr>\n",
       "    <tr>\n",
       "      <th>Recorded By:</th>\n",
       "      <td>Egyptian astronomers</td>\n",
       "    </tr>\n",
       "  </tbody>\n",
       "</table>\n",
       "</div>"
      ],
      "text/plain": [
       "                                              Value\n",
       "Description                                        \n",
       "Equatorial Diameter:                       6,792 km\n",
       "Polar Diameter:                            6,752 km\n",
       "Mass:                 6.42 x 10^23 kg (10.7% Earth)\n",
       "Moons:                          2 (Phobos & Deimos)\n",
       "Orbit Distance:            227,943,824 km (1.52 AU)\n",
       "Orbit Period:                  687 days (1.9 years)\n",
       "Surface Temperature:                  -153 to 20 °C\n",
       "First Record:                     2nd millennium BC\n",
       "Recorded By:                   Egyptian astronomers"
      ]
     },
     "execution_count": 26,
     "metadata": {},
     "output_type": "execute_result"
    }
   ],
   "source": [
    "data = requests.get(\"https://space-facts.com/mars/\")\n",
    "soup = BeautifulSoup(data.content, 'lxml')\n",
    "\n",
    "mars_table = soup.find_all('table')[0]\n",
    "mars_data = pd.read_html(str(mars_table))[0]\n",
    "mars_data.columns = [\"Description\", \"Value\"]\n",
    "mars_data = mars_data.set_index(\"Description\")\n",
    "\n",
    "mars_data"
   ]
  },
  {
   "cell_type": "code",
   "execution_count": 27,
   "metadata": {},
   "outputs": [],
   "source": [
    "# Mars_data to html\n",
    "mars_facts = mars_data.to_html(index = True, header =True)"
   ]
  },
  {
   "cell_type": "markdown",
   "metadata": {},
   "source": [
    "## Mars Hemispheres "
   ]
  },
  {
   "cell_type": "code",
   "execution_count": 28,
   "metadata": {},
   "outputs": [
    {
     "data": {
      "text/plain": [
       "[{'img_url': 'https://astrogeology.usgs.gov//search/map/Mars/Viking/cerberus_enhanced',\n",
       "  'title': 'Cerberus Hemisphere '},\n",
       " {'img_url': 'https://astrogeology.usgs.gov//search/map/Mars/Viking/schiaparelli_enhanced',\n",
       "  'title': 'Schiaparelli Hemisphere '},\n",
       " {'img_url': 'https://astrogeology.usgs.gov//search/map/Mars/Viking/syrtis_major_enhanced',\n",
       "  'title': 'Syrtis Major Hemisphere '},\n",
       " {'img_url': 'https://astrogeology.usgs.gov//search/map/Mars/Viking/valles_marineris_enhanced',\n",
       "  'title': 'Valles Marineris Hemisphere '}]"
      ]
     },
     "execution_count": 28,
     "metadata": {},
     "output_type": "execute_result"
    }
   ],
   "source": [
    "driver = webdriver.Chrome('C:/Users/hanna/chromedriver/chromedriver.exe')\n",
    "\n",
    "hemisphere_url = \"https://astrogeology.usgs.gov/search/results?q=hemisphere+enhanced&k1=target&v1=Mars\"\n",
    "driver.get(hemisphere_url)\n",
    "\n",
    "html = driver.page_source\n",
    "soup = BeautifulSoup(html, 'html.parser')\n",
    "\n",
    "mars_hemisphere_list = []\n",
    "\n",
    "products = soup.find(\"div\", class_ = \"result-list\" )\n",
    "hemispheres = products.find_all(\"div\", class_=\"item\")\n",
    "\n",
    "for hemisphere in hemispheres:\n",
    "    title = hemisphere.find(\"h3\").text\n",
    "    title = title.replace(\"Enhanced\", \"\")\n",
    "    end_link = hemisphere.find(\"a\")[\"href\"]\n",
    "    image_url = \"https://astrogeology.usgs.gov/\" + end_link\n",
    "    mars_hemisphere_list.append({\"title\": title, \"img_url\": image_url})\n",
    "    \n",
    "mars_hemisphere_list\n"
   ]
  },
  {
   "cell_type": "code",
   "execution_count": 29,
   "metadata": {},
   "outputs": [],
   "source": [
    "def get_high_res_url(some_url):\n",
    "    response = requests.get(some_url)\n",
    "    soup = BeautifulSoup(response.text, 'html.parser')\n",
    "    links = soup.find_all(\"a\")\n",
    "    tifs = [j for j in links if \".tif\" in j.attrs.get('href')]\n",
    "    return tifs[0].get('href')"
   ]
  },
  {
   "cell_type": "code",
   "execution_count": 31,
   "metadata": {},
   "outputs": [],
   "source": [
    "updated_photos = []\n",
    "\n",
    "\n",
    "for data in mars_hemisphere_list:\n",
    "    link_to_check = data.get('img_url')\n",
    "    title = data.get('title')\n",
    "    final_image_url = get_high_res_url(link_to_check)\n",
    "    updated_photos.append({\n",
    "        'Title': title,\n",
    "        'Url': final_image_url\n",
    "    })\n",
    "    "
   ]
  },
  {
   "cell_type": "code",
   "execution_count": 32,
   "metadata": {},
   "outputs": [
    {
     "data": {
      "text/plain": [
       "[{'Title': 'Cerberus Hemisphere ',\n",
       "  'Url': 'http://astropedia.astrogeology.usgs.gov/download/Mars/Viking/cerberus_enhanced.tif/full.jpg'},\n",
       " {'Title': 'Schiaparelli Hemisphere ',\n",
       "  'Url': 'http://astropedia.astrogeology.usgs.gov/download/Mars/Viking/schiaparelli_enhanced.tif/full.jpg'},\n",
       " {'Title': 'Syrtis Major Hemisphere ',\n",
       "  'Url': 'http://astropedia.astrogeology.usgs.gov/download/Mars/Viking/syrtis_major_enhanced.tif/full.jpg'},\n",
       " {'Title': 'Valles Marineris Hemisphere ',\n",
       "  'Url': 'http://astropedia.astrogeology.usgs.gov/download/Mars/Viking/valles_marineris_enhanced.tif/full.jpg'}]"
      ]
     },
     "execution_count": 32,
     "metadata": {},
     "output_type": "execute_result"
    }
   ],
   "source": [
    "updated_photos"
   ]
  },
  {
   "cell_type": "code",
   "execution_count": null,
   "metadata": {},
   "outputs": [],
   "source": []
  }
 ],
 "metadata": {
  "kernelspec": {
   "display_name": "Python 3",
   "language": "python",
   "name": "python3"
  },
  "language_info": {
   "codemirror_mode": {
    "name": "ipython",
    "version": 3
   },
   "file_extension": ".py",
   "mimetype": "text/x-python",
   "name": "python",
   "nbconvert_exporter": "python",
   "pygments_lexer": "ipython3",
   "version": "3.6.4"
  }
 },
 "nbformat": 4,
 "nbformat_minor": 2
}
