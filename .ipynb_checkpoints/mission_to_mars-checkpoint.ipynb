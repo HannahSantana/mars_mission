{
 "cells": [
  {
   "cell_type": "code",
   "execution_count": 2,
   "metadata": {},
   "outputs": [],
   "source": [
    "import time\n",
    "from bs4 import BeautifulSoup\n",
    "import pandas as pd\n",
    "from selenium import webdriver\n",
    "import requests\n",
    "\n"
   ]
  },
  {
   "cell_type": "code",
   "execution_count": 13,
   "metadata": {},
   "outputs": [
    {
     "name": "stdout",
     "output_type": "stream",
     "text": [
      "{'Title': \"Six Things About Opportunity's Recovery Efforts\", 'Content': 'The global dust storm on Mars could soon let in enough sunlight for the Opportunity rover to recharge.'}\n"
     ]
    }
   ],
   "source": [
    "driver = webdriver.Chrome('C:/Users/hanna/chromedriver/chromedriver.exe') \n",
    "\n",
    "url = \"https://mars.nasa.gov/news/?page=0&per_page=40&order=publish_date+desc%2Ccreated_at+desc&search=&category=19%2C165%2C184%2C204&blank_scope=Latest\"\n",
    "driver.get(url)\n",
    "\n",
    "html = driver.page_source\n",
    "soup = BeautifulSoup(html, 'html.parser')\n",
    "\n",
    "\n",
    "news_title = soup.find(\"div\", class_ = \"content_title\").text\n",
    "news_content = soup.find(\"div\", class_ = \"article_teaser_body\").text\n",
    "\n",
    "news = {\n",
    "    \"Title\": news_title,\n",
    "    \"Content\": news_content\n",
    "}\n",
    "\n",
    "print(news)"
   ]
  },
  {
   "cell_type": "code",
   "execution_count": 11,
   "metadata": {},
   "outputs": [
    {
     "name": "stdout",
     "output_type": "stream",
     "text": [
      "https://www.jpl.nasa.gov/spaceimages/?search=&category=Mars/spaceimages/images/mediumsize/PIA17563_ip.jpg\n"
     ]
    }
   ],
   "source": [
    "driver = webdriver.Chrome('C:/Users/hanna/chromedriver/chromedriver.exe')\n",
    "\n",
    "url = \"https://www.jpl.nasa.gov/spaceimages/?search=&category=Mars\"\n",
    "driver.get(url)\n",
    "\n",
    "html = driver.page_source\n",
    "soup = BeautifulSoup(html, 'html.parser')\n",
    "\n",
    "images = soup.find(\"a\", class_ = \"button fancybox\")\n",
    "\n",
    "featured_image_url = url + images.get('data-fancybox-href')\n",
    "\n",
    "for image in images:\n",
    "    print(featured_image_url)\n",
    "    "
   ]
  },
  {
   "cell_type": "code",
   "execution_count": 12,
   "metadata": {},
   "outputs": [],
   "source": [
    "from selenium.webdriver.common.keys import Keys"
   ]
  },
  {
   "cell_type": "code",
   "execution_count": 17,
   "metadata": {},
   "outputs": [
    {
     "name": "stdout",
     "output_type": "stream",
     "text": [
      "{'Text': b\"Another fun fact.  Bobak didn't appear in a Sharknado movie until the 3rd installment.https://twitter.com/tweetsoutloud/status/1030151609068613637\\xc2\\xa0\\xe2\\x80\\xa6\"}\n",
      "{'Text': b'Sol 2140 (2018-08-13), high -10C/14F, low -70C/-93F, pressure at 8.58 hPa, daylight 05:27-17:40'}\n",
      "{'Text': b'Sol 2139 (2018-08-12), high -11C/12F, low -70C/-93F, pressure at 8.57 hPa, daylight 05:27-17:40'}\n",
      "{'Text': b'Sol 2138 (2018-08-11), high -16C/3F, low -68C/-90F, pressure at 8.58 hPa, daylight 05:26-17:39'}\n",
      "{'Text': b'Sol 2137 (2018-08-10), high -13C/8F, low -66C/-86F, pressure at 8.57 hPa, daylight 05:26-17:38'}\n",
      "{'Text': b'Sol 2136 (2018-08-09), high -13C/8F, low -66C/-86F, pressure at 8.56 hPa, daylight 05:26-17:38'}\n",
      "{'Text': b'Sol 2135 (2018-08-08), high -15C/5F, low -66C/-86F, pressure at 8.54 hPa, daylight 05:25-17:37'}\n",
      "{'Text': b'Sol 2134 (2018-08-07), high -14C/6F, low -65C/-84F, pressure at 8.51 hPa, daylight 05:25-17:37'}\n",
      "{'Text': b'Sol 2133 (2018-08-06), high -18C/0F, low -65C/-84F, pressure at 8.49 hPa, daylight 05:24-17:37'}\n",
      "{'Text': b'Sol 2132 (2018-08-05), high -16C/3F, low -69C/-92F, pressure at 8.47 hPa, daylight 05:24-17:36'}\n",
      "{'Text': b'Sol 2131 (2018-08-04), high -21C/-5F, low -67C/-88F, pressure at 8.46 hPa, daylight 05:24-17:36'}\n",
      "{'Text': b'Sol 2130 (2018-08-03), high -18C/0F, low -62C/-79F, pressure at 8.44 hPa, daylight 05:24-17:35'}\n",
      "{'Text': b'Sol 2129 (2018-08-02), high -21C/-5F, low -66C/-86F, pressure at 8.43 hPa, daylight 05:23-17:35'}\n",
      "{'Text': b'Sol 2128 (2018-08-01), high -20C/-3F, low -65C/-84F, pressure at 8.41 hPa, daylight 05:23-17:34'}\n",
      "{'Text': b'Sol 2127 (2018-07-31), high -18C/0F, low -69C/-92F, pressure at 8.38 hPa, daylight 05:23-17:34'}\n",
      "{'Text': b'Sol 2126 (2018-07-30), high -18C/0F, low -63C/-81F, pressure at 8.37 hPa, daylight 05:22-17:33'}\n",
      "{'Text': b'Sol 2125 (2018-07-29), high -17C/1F, low -66C/-86F, pressure at 8.34 hPa, daylight 05:22-17:33'}\n",
      "{'Text': b'Sol 2124 (2018-07-28), high -17C/1F, low -67C/-88F, pressure at 8.32 hPa, daylight 05:22-17:33'}\n",
      "{'Text': b'Sol 2123 (2018-07-27), high -18C/0F, low -68C/-90F, pressure at 8.31 hPa, daylight 05:22-17:32'}\n",
      "{'Text': b'Sol 2122 (2018-07-26), high -14C/6F, low -63C/-81F, pressure at 8.30 hPa, daylight 05:21-17:32'}\n"
     ]
    }
   ],
   "source": [
    "driver = webdriver.Chrome('C:/Users/hanna/chromedriver/chromedriver.exe')\n",
    "\n",
    "url = \"https://twitter.com/marswxreport?lang=en\"\n",
    "\n",
    "html = driver.page_source\n",
    "response = requests.get(url)\n",
    "soup = BeautifulSoup(response.text,\"lxml\")\n",
    "tweets = soup.findAll('li',{\"class\":'js-stream-item'})\n",
    "\n",
    "\n",
    "tweet_records = []\n",
    "\n",
    "for tweet in tweets:\n",
    "    if tweet.find('p',{\"class\":'tweet-text'}):\n",
    "        tweet_text = tweet.find('p',{\"class\":'tweet-text'}).text.encode('utf8').strip()\n",
    "        tweet_dict = {\n",
    "            \"Text\": tweet_text}\n",
    "        tweet_records.append(tweet_dict)\n",
    "        print(tweet_dict)\n",
    "    else:\n",
    "        continue"
   ]
  },
  {
   "cell_type": "code",
   "execution_count": 15,
   "metadata": {},
   "outputs": [
    {
     "data": {
      "text/plain": [
       "{'Text': b'Sol 2140 (2018-08-13), high -10C/14F, low -70C/-93F, pressure at 8.58 hPa, daylight 05:27-17:40'}"
      ]
     },
     "execution_count": 15,
     "metadata": {},
     "output_type": "execute_result"
    }
   ],
   "source": [
    "mars_weather = tweet_records[1]\n",
    "mars_weather"
   ]
  },
  {
   "cell_type": "code",
   "execution_count": 40,
   "metadata": {},
   "outputs": [
    {
     "data": {
      "text/html": [
       "<div>\n",
       "<style scoped>\n",
       "    .dataframe tbody tr th:only-of-type {\n",
       "        vertical-align: middle;\n",
       "    }\n",
       "\n",
       "    .dataframe tbody tr th {\n",
       "        vertical-align: top;\n",
       "    }\n",
       "\n",
       "    .dataframe thead th {\n",
       "        text-align: right;\n",
       "    }\n",
       "</style>\n",
       "<table border=\"1\" class=\"dataframe\">\n",
       "  <thead>\n",
       "    <tr style=\"text-align: right;\">\n",
       "      <th></th>\n",
       "      <th>0</th>\n",
       "      <th>1</th>\n",
       "    </tr>\n",
       "  </thead>\n",
       "  <tbody>\n",
       "    <tr>\n",
       "      <th>0</th>\n",
       "      <td>Equatorial Diameter:</td>\n",
       "      <td>6,792 km</td>\n",
       "    </tr>\n",
       "    <tr>\n",
       "      <th>1</th>\n",
       "      <td>Polar Diameter:</td>\n",
       "      <td>6,752 km</td>\n",
       "    </tr>\n",
       "    <tr>\n",
       "      <th>2</th>\n",
       "      <td>Mass:</td>\n",
       "      <td>6.42 x 10^23 kg (10.7% Earth)</td>\n",
       "    </tr>\n",
       "    <tr>\n",
       "      <th>3</th>\n",
       "      <td>Moons:</td>\n",
       "      <td>2 (Phobos &amp; Deimos)</td>\n",
       "    </tr>\n",
       "    <tr>\n",
       "      <th>4</th>\n",
       "      <td>Orbit Distance:</td>\n",
       "      <td>227,943,824 km (1.52 AU)</td>\n",
       "    </tr>\n",
       "    <tr>\n",
       "      <th>5</th>\n",
       "      <td>Orbit Period:</td>\n",
       "      <td>687 days (1.9 years)</td>\n",
       "    </tr>\n",
       "    <tr>\n",
       "      <th>6</th>\n",
       "      <td>Surface Temperature:</td>\n",
       "      <td>-153 to 20 °C</td>\n",
       "    </tr>\n",
       "    <tr>\n",
       "      <th>7</th>\n",
       "      <td>First Record:</td>\n",
       "      <td>2nd millennium BC</td>\n",
       "    </tr>\n",
       "    <tr>\n",
       "      <th>8</th>\n",
       "      <td>Recorded By:</td>\n",
       "      <td>Egyptian astronomers</td>\n",
       "    </tr>\n",
       "  </tbody>\n",
       "</table>\n",
       "</div>"
      ],
      "text/plain": [
       "                      0                              1\n",
       "0  Equatorial Diameter:                       6,792 km\n",
       "1       Polar Diameter:                       6,752 km\n",
       "2                 Mass:  6.42 x 10^23 kg (10.7% Earth)\n",
       "3                Moons:            2 (Phobos & Deimos)\n",
       "4       Orbit Distance:       227,943,824 km (1.52 AU)\n",
       "5         Orbit Period:           687 days (1.9 years)\n",
       "6  Surface Temperature:                  -153 to 20 °C\n",
       "7         First Record:              2nd millennium BC\n",
       "8          Recorded By:           Egyptian astronomers"
      ]
     },
     "execution_count": 40,
     "metadata": {},
     "output_type": "execute_result"
    }
   ],
   "source": [
    "data = requests.get(\"https://space-facts.com/mars/\")\n",
    "soup = BeautifulSoup(data.content, 'lxml')\n",
    "table = soup.find_all('table')[0]\n",
    "df = pd.read_html(str(table))[0]\n",
    "\n",
    "df"
   ]
  },
  {
   "cell_type": "code",
   "execution_count": 104,
   "metadata": {},
   "outputs": [
    {
     "data": {
      "text/plain": [
       "[{'img_url': 'https://astrogeology.usgs.gov//search/map/Mars/Viking/cerberus_enhanced',\n",
       "  'title': 'Cerberus Hemisphere '},\n",
       " {'img_url': 'https://astrogeology.usgs.gov//search/map/Mars/Viking/schiaparelli_enhanced',\n",
       "  'title': 'Schiaparelli Hemisphere '},\n",
       " {'img_url': 'https://astrogeology.usgs.gov//search/map/Mars/Viking/syrtis_major_enhanced',\n",
       "  'title': 'Syrtis Major Hemisphere '},\n",
       " {'img_url': 'https://astrogeology.usgs.gov//search/map/Mars/Viking/valles_marineris_enhanced',\n",
       "  'title': 'Valles Marineris Hemisphere '}]"
      ]
     },
     "execution_count": 104,
     "metadata": {},
     "output_type": "execute_result"
    }
   ],
   "source": [
    "driver = webdriver.Chrome('C:/Users/hanna/chromedriver/chromedriver.exe')\n",
    "\n",
    "url = \"https://astrogeology.usgs.gov/search/results?q=hemisphere+enhanced&k1=target&v1=Mars\"\n",
    "driver.get(url)\n",
    "\n",
    "html = driver.page_source\n",
    "soup = BeautifulSoup(html, 'html.parser')\n",
    "\n",
    "mars_hemisphere = []\n",
    "\n",
    "products = soup.find(\"div\", class_ = \"result-list\" )\n",
    "hemispheres = products.find_all(\"div\", class_=\"item\")\n",
    "\n",
    "for hemisphere in hemispheres:\n",
    "    title = hemisphere.find(\"h3\").text\n",
    "    title = title.replace(\"Enhanced\", \"\")\n",
    "    end_link = hemisphere.find(\"a\")[\"href\"]\n",
    "    image_url = \"https://astrogeology.usgs.gov/\" + end_link\n",
    "    mars_hemisphere.append({\"title\": title, \"img_url\": image_url})\n",
    "    \n",
    "mars_hemisphere\n"
   ]
  },
  {
   "cell_type": "code",
   "execution_count": 116,
   "metadata": {},
   "outputs": [],
   "source": [
    "def get_high_res_url(some_url):\n",
    "    response = requests.get(some_url)\n",
    "    soup = BeautifulSoup(response.text, 'html.parser')\n",
    "    links = soup.find_all(\"a\")\n",
    "    tifs = [j for j in links if \".tif\" in j.attrs.get('href')]\n",
    "    return tifs[0].get('href')"
   ]
  },
  {
   "cell_type": "code",
   "execution_count": 117,
   "metadata": {},
   "outputs": [],
   "source": [
    "updated_photos = []\n",
    "\n",
    "\n",
    "for data in mars_hemisphere:\n",
    "    link_to_check = data.get('img_url')\n",
    "    title = data.get('title')\n",
    "    final_image_url = get_high_res_url(link_to_check)\n",
    "    updated_photos.append({\n",
    "        'Title': title,\n",
    "        'Url': final_image_url\n",
    "    })\n",
    "    "
   ]
  },
  {
   "cell_type": "code",
   "execution_count": 118,
   "metadata": {},
   "outputs": [
    {
     "data": {
      "text/plain": [
       "[{'Title': 'Cerberus Hemisphere ',\n",
       "  'Url': 'http://astropedia.astrogeology.usgs.gov/download/Mars/Viking/cerberus_enhanced.tif/full.jpg'},\n",
       " {'Title': 'Schiaparelli Hemisphere ',\n",
       "  'Url': 'http://astropedia.astrogeology.usgs.gov/download/Mars/Viking/schiaparelli_enhanced.tif/full.jpg'},\n",
       " {'Title': 'Syrtis Major Hemisphere ',\n",
       "  'Url': 'http://astropedia.astrogeology.usgs.gov/download/Mars/Viking/syrtis_major_enhanced.tif/full.jpg'},\n",
       " {'Title': 'Valles Marineris Hemisphere ',\n",
       "  'Url': 'http://astropedia.astrogeology.usgs.gov/download/Mars/Viking/valles_marineris_enhanced.tif/full.jpg'}]"
      ]
     },
     "execution_count": 118,
     "metadata": {},
     "output_type": "execute_result"
    }
   ],
   "source": [
    "updated_photos"
   ]
  },
  {
   "cell_type": "code",
   "execution_count": null,
   "metadata": {},
   "outputs": [],
   "source": []
  }
 ],
 "metadata": {
  "kernelspec": {
   "display_name": "Python 3",
   "language": "python",
   "name": "python3"
  },
  "language_info": {
   "codemirror_mode": {
    "name": "ipython",
    "version": 3
   },
   "file_extension": ".py",
   "mimetype": "text/x-python",
   "name": "python",
   "nbconvert_exporter": "python",
   "pygments_lexer": "ipython3",
   "version": "3.6.4"
  }
 },
 "nbformat": 4,
 "nbformat_minor": 2
}
