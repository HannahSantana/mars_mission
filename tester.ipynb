{
 "cells": [
  {
   "cell_type": "code",
   "execution_count": 11,
   "metadata": {},
   "outputs": [],
   "source": [
    "from bs4 import BeautifulSoup\n",
    "import pandas as pd\n",
    "from selenium import webdriver\n",
    "import requests\n",
    "\n",
    "\n",
    "# Site Navigation\n",
    "\n",
    "driver = webdriver.Chrome('C:/Users/hanna/chromedriver/chromedriver.exe') "
   ]
  },
  {
   "cell_type": "code",
   "execution_count": 12,
   "metadata": {},
   "outputs": [],
   "source": [
    "def mars_news():\n",
    "    news_url = \"https://mars.nasa.gov/news/?page=0&per_page=40&order=publish_date+desc%2Ccreated_at+desc&search=&category=19%2C165%2C184%2C204&blank_scope=Latest\"\n",
    "    driver.get(news_url)\n",
    "    html = driver.page_source\n",
    "    soup = BeautifulSoup(html, 'html.parser')\n",
    "    news_title = soup.find(\"div\", class_ = \"content_title\").text\n",
    "    news_content = soup.find(\"div\", class_ = \"article_teaser_body\").text\n",
    "    news = [news_title, news_content]\n",
    "    print(news)\n"
   ]
  },
  {
   "cell_type": "code",
   "execution_count": 13,
   "metadata": {},
   "outputs": [
    {
     "name": "stdout",
     "output_type": "stream",
     "text": [
      "[\"Six Things About Opportunity's Recovery Efforts\", 'The global dust storm on Mars could soon let in enough sunlight for the Opportunity rover to recharge.']\n"
     ]
    }
   ],
   "source": [
    "mars_news()"
   ]
  },
  {
   "cell_type": "code",
   "execution_count": 18,
   "metadata": {},
   "outputs": [],
   "source": [
    "def mars_image():\n",
    "    image_url = \"https://www.jpl.nasa.gov/spaceimages/?search=&category=Mars\"\n",
    "    driver.get(image_url)\n",
    "    html = driver.page_source\n",
    "    soup = BeautifulSoup(html, 'html.parser')\n",
    "    images = soup.find(\"a\", class_ = \"button fancybox\")\n",
    "    featured_image_url = image_url + images.get('data-fancybox-href')\n",
    "    print(featured_image_url) "
   ]
  },
  {
   "cell_type": "code",
   "execution_count": 19,
   "metadata": {},
   "outputs": [
    {
     "name": "stdout",
     "output_type": "stream",
     "text": [
      "https://www.jpl.nasa.gov/spaceimages/?search=&category=Mars/spaceimages/images/mediumsize/PIA18816_ip.jpg\n"
     ]
    }
   ],
   "source": [
    "mars_image()"
   ]
  },
  {
   "cell_type": "code",
   "execution_count": 32,
   "metadata": {},
   "outputs": [
    {
     "data": {
      "text/plain": [
       "b'Sol 2140 (2018-08-13), high -10C/14F, low -70C/-93F, pressure at 8.58 hPa, daylight 05:27-17:40'"
      ]
     },
     "execution_count": 32,
     "metadata": {},
     "output_type": "execute_result"
    }
   ],
   "source": [
    "driver = webdriver.Chrome('C:/Users/hanna/chromedriver/chromedriver.exe')\n",
    "\n",
    "url = \"https://twitter.com/marswxreport?lang=en\"\n",
    "\n",
    "html = driver.page_source\n",
    "response = requests.get(url)\n",
    "soup = BeautifulSoup(response.text,\"lxml\")\n",
    "tweets = soup.findAll('li',{\"class\":'js-stream-item'})\n",
    "\n",
    "\n",
    "tweet_records = []\n",
    "\n",
    "for tweet in tweets:\n",
    "    if tweet.find('p',{\"class\":'tweet-text'}):\n",
    "        tweet_text = tweet.find('p',{\"class\":'tweet-text'}).text.encode('utf8').strip()\n",
    "        #tweet_dict = {\n",
    "            #\"Text\": tweet_text}\n",
    "        tweet_records.append(tweet_text)\n",
    "        \n",
    "\n",
    "mars_weather_status = tweet_records[1]\n",
    "mars_weather_status\n",
    "        #return tweet_records\n",
    "    #else:\n",
    "        #continue"
   ]
  },
  {
   "cell_type": "code",
   "execution_count": 33,
   "metadata": {},
   "outputs": [],
   "source": [
    "def mars_weather():\n",
    "    twitter_url = url = \"https://twitter.com/marswxreport?lang=en\"\n",
    "    html = driver.page_source\n",
    "    response = requests.get(url)\n",
    "    soup = BeautifulSoup(response.text,\"lxml\")\n",
    "    tweets = soup.findAll('li',{\"class\":'js-stream-item'})\n",
    "    tweet_records = []\n",
    "    for tweet in tweets:\n",
    "        if tweet.find('p',{\"class\":'tweet-text'}):\n",
    "            tweet_text = tweet.find('p',{\"class\":'tweet-text'}).text.encode('utf8').strip()\n",
    "        tweet_records.append(tweet_text)\n",
    "    mars_weather_status = tweet_records[1]\n",
    "    return mars_weather_status"
   ]
  },
  {
   "cell_type": "code",
   "execution_count": 34,
   "metadata": {},
   "outputs": [
    {
     "data": {
      "text/plain": [
       "b'Sol 2140 (2018-08-13), high -10C/14F, low -70C/-93F, pressure at 8.58 hPa, daylight 05:27-17:40'"
      ]
     },
     "execution_count": 34,
     "metadata": {},
     "output_type": "execute_result"
    }
   ],
   "source": [
    "mars_weather()"
   ]
  },
  {
   "cell_type": "code",
   "execution_count": 40,
   "metadata": {},
   "outputs": [
    {
     "data": {
      "text/html": [
       "<div>\n",
       "<style scoped>\n",
       "    .dataframe tbody tr th:only-of-type {\n",
       "        vertical-align: middle;\n",
       "    }\n",
       "\n",
       "    .dataframe tbody tr th {\n",
       "        vertical-align: top;\n",
       "    }\n",
       "\n",
       "    .dataframe thead th {\n",
       "        text-align: right;\n",
       "    }\n",
       "</style>\n",
       "<table border=\"1\" class=\"dataframe\">\n",
       "  <thead>\n",
       "    <tr style=\"text-align: right;\">\n",
       "      <th></th>\n",
       "      <th>Value</th>\n",
       "    </tr>\n",
       "    <tr>\n",
       "      <th>Description</th>\n",
       "      <th></th>\n",
       "    </tr>\n",
       "  </thead>\n",
       "  <tbody>\n",
       "    <tr>\n",
       "      <th>Equatorial Diameter:</th>\n",
       "      <td>6,792 km</td>\n",
       "    </tr>\n",
       "    <tr>\n",
       "      <th>Polar Diameter:</th>\n",
       "      <td>6,752 km</td>\n",
       "    </tr>\n",
       "    <tr>\n",
       "      <th>Mass:</th>\n",
       "      <td>6.42 x 10^23 kg (10.7% Earth)</td>\n",
       "    </tr>\n",
       "    <tr>\n",
       "      <th>Moons:</th>\n",
       "      <td>2 (Phobos &amp; Deimos)</td>\n",
       "    </tr>\n",
       "    <tr>\n",
       "      <th>Orbit Distance:</th>\n",
       "      <td>227,943,824 km (1.52 AU)</td>\n",
       "    </tr>\n",
       "    <tr>\n",
       "      <th>Orbit Period:</th>\n",
       "      <td>687 days (1.9 years)</td>\n",
       "    </tr>\n",
       "    <tr>\n",
       "      <th>Surface Temperature:</th>\n",
       "      <td>-153 to 20 °C</td>\n",
       "    </tr>\n",
       "    <tr>\n",
       "      <th>First Record:</th>\n",
       "      <td>2nd millennium BC</td>\n",
       "    </tr>\n",
       "    <tr>\n",
       "      <th>Recorded By:</th>\n",
       "      <td>Egyptian astronomers</td>\n",
       "    </tr>\n",
       "  </tbody>\n",
       "</table>\n",
       "</div>"
      ],
      "text/plain": [
       "                                              Value\n",
       "Description                                        \n",
       "Equatorial Diameter:                       6,792 km\n",
       "Polar Diameter:                            6,752 km\n",
       "Mass:                 6.42 x 10^23 kg (10.7% Earth)\n",
       "Moons:                          2 (Phobos & Deimos)\n",
       "Orbit Distance:            227,943,824 km (1.52 AU)\n",
       "Orbit Period:                  687 days (1.9 years)\n",
       "Surface Temperature:                  -153 to 20 °C\n",
       "First Record:                     2nd millennium BC\n",
       "Recorded By:                   Egyptian astronomers"
      ]
     },
     "execution_count": 40,
     "metadata": {},
     "output_type": "execute_result"
    }
   ],
   "source": [
    "data = requests.get(\"https://space-facts.com/mars/\")\n",
    "soup = BeautifulSoup(data.content, 'lxml')\n",
    "mars_table = soup.find_all('table')[0]\n",
    "mars_data = pd.read_html(str(mars_table))[0]\n",
    "mars_data.columns = [\"Description\", \"Value\"]\n",
    "mars_data = mars_data.set_index(\"Description\")\n",
    "mars_facts = mars_data.to_html(index = True, header =True)\n",
    "\n",
    "\n",
    "mars_data"
   ]
  },
  {
   "cell_type": "code",
   "execution_count": 41,
   "metadata": {},
   "outputs": [],
   "source": [
    "def mars_facts():\n",
    "    data = requests.get(\"https://space-facts.com/mars/\")\n",
    "    soup = BeautifulSoup(data.content, 'lxml')\n",
    "    mars_table = soup.find_all('table')[0]\n",
    "    mars_data = pd.read_html(str(mars_table))[0]\n",
    "    mars_data.columns = [\"Description\", \"Value\"]\n",
    "    mars_data = mars_data.set_index(\"Description\")\n",
    "    mars_facts = mars_data.to_html(index = True, header =True)\n",
    "    return mars_facts"
   ]
  },
  {
   "cell_type": "code",
   "execution_count": 42,
   "metadata": {},
   "outputs": [
    {
     "data": {
      "text/plain": [
       "'<table border=\"1\" class=\"dataframe\">\\n  <thead>\\n    <tr style=\"text-align: right;\">\\n      <th></th>\\n      <th>Value</th>\\n    </tr>\\n    <tr>\\n      <th>Description</th>\\n      <th></th>\\n    </tr>\\n  </thead>\\n  <tbody>\\n    <tr>\\n      <th>Equatorial Diameter:</th>\\n      <td>6,792 km</td>\\n    </tr>\\n    <tr>\\n      <th>Polar Diameter:</th>\\n      <td>6,752 km</td>\\n    </tr>\\n    <tr>\\n      <th>Mass:</th>\\n      <td>6.42 x 10^23 kg (10.7% Earth)</td>\\n    </tr>\\n    <tr>\\n      <th>Moons:</th>\\n      <td>2 (Phobos &amp; Deimos)</td>\\n    </tr>\\n    <tr>\\n      <th>Orbit Distance:</th>\\n      <td>227,943,824 km (1.52 AU)</td>\\n    </tr>\\n    <tr>\\n      <th>Orbit Period:</th>\\n      <td>687 days (1.9 years)</td>\\n    </tr>\\n    <tr>\\n      <th>Surface Temperature:</th>\\n      <td>-153 to 20 °C</td>\\n    </tr>\\n    <tr>\\n      <th>First Record:</th>\\n      <td>2nd millennium BC</td>\\n    </tr>\\n    <tr>\\n      <th>Recorded By:</th>\\n      <td>Egyptian astronomers</td>\\n    </tr>\\n  </tbody>\\n</table>'"
      ]
     },
     "execution_count": 42,
     "metadata": {},
     "output_type": "execute_result"
    }
   ],
   "source": [
    "mars_facts()"
   ]
  },
  {
   "cell_type": "code",
   "execution_count": 47,
   "metadata": {},
   "outputs": [
    {
     "data": {
      "text/plain": [
       "[{'img_url': 'https://astrogeology.usgs.gov//search/map/Mars/Viking/cerberus_enhanced',\n",
       "  'title': 'Cerberus Hemisphere '},\n",
       " {'img_url': 'https://astrogeology.usgs.gov//search/map/Mars/Viking/schiaparelli_enhanced',\n",
       "  'title': 'Schiaparelli Hemisphere '},\n",
       " {'img_url': 'https://astrogeology.usgs.gov//search/map/Mars/Viking/syrtis_major_enhanced',\n",
       "  'title': 'Syrtis Major Hemisphere '},\n",
       " {'img_url': 'https://astrogeology.usgs.gov//search/map/Mars/Viking/valles_marineris_enhanced',\n",
       "  'title': 'Valles Marineris Hemisphere '}]"
      ]
     },
     "execution_count": 47,
     "metadata": {},
     "output_type": "execute_result"
    }
   ],
   "source": [
    "url = \"https://astrogeology.usgs.gov/search/results?q=hemisphere+enhanced&k1=target&v1=Mars\"\n",
    "driver.get(url)\n",
    "\n",
    "html = driver.page_source\n",
    "soup = BeautifulSoup(html, 'html.parser')\n",
    "\n",
    "mars_hemisphere = []\n",
    "\n",
    "products = soup.find(\"div\", class_ = \"result-list\" )\n",
    "hemispheres = products.find_all(\"div\", class_=\"item\")\n",
    "\n",
    "for hemisphere in hemispheres:\n",
    "    title = hemisphere.find(\"h3\").text\n",
    "    title = title.replace(\"Enhanced\", \"\")\n",
    "    end_link = hemisphere.find(\"a\")[\"href\"]\n",
    "    image_url = \"https://astrogeology.usgs.gov/\" + end_link\n",
    "    mars_hemisphere.append({\"title\": title, \"img_url\": image_url})\n",
    "    \n",
    "mars_hemisphere\n"
   ]
  },
  {
   "cell_type": "code",
   "execution_count": 48,
   "metadata": {},
   "outputs": [],
   "source": [
    "def get_high_res_url(some_url):\n",
    "    response = requests.get(some_url)\n",
    "    soup = BeautifulSoup(response.text, 'html.parser')\n",
    "    links = soup.find_all(\"a\")\n",
    "    tifs = [j for j in links if \".tif\" in j.attrs.get('href')]\n",
    "    return tifs[0].get('href')"
   ]
  },
  {
   "cell_type": "code",
   "execution_count": 49,
   "metadata": {},
   "outputs": [],
   "source": [
    "updated_photos = []\n",
    "\n",
    "\n",
    "for data in mars_hemisphere:\n",
    "    link_to_check = data.get('img_url')\n",
    "    title = data.get('title')\n",
    "    final_image_url = get_high_res_url(link_to_check)\n",
    "    updated_photos.append({\n",
    "        'Title': title,\n",
    "        'Url': final_image_url\n",
    "    })\n",
    "    "
   ]
  },
  {
   "cell_type": "code",
   "execution_count": 50,
   "metadata": {},
   "outputs": [
    {
     "data": {
      "text/plain": [
       "[{'Title': 'Cerberus Hemisphere ',\n",
       "  'Url': 'http://astropedia.astrogeology.usgs.gov/download/Mars/Viking/cerberus_enhanced.tif/full.jpg'},\n",
       " {'Title': 'Schiaparelli Hemisphere ',\n",
       "  'Url': 'http://astropedia.astrogeology.usgs.gov/download/Mars/Viking/schiaparelli_enhanced.tif/full.jpg'},\n",
       " {'Title': 'Syrtis Major Hemisphere ',\n",
       "  'Url': 'http://astropedia.astrogeology.usgs.gov/download/Mars/Viking/syrtis_major_enhanced.tif/full.jpg'},\n",
       " {'Title': 'Valles Marineris Hemisphere ',\n",
       "  'Url': 'http://astropedia.astrogeology.usgs.gov/download/Mars/Viking/valles_marineris_enhanced.tif/full.jpg'}]"
      ]
     },
     "execution_count": 50,
     "metadata": {},
     "output_type": "execute_result"
    }
   ],
   "source": [
    "updated_photos"
   ]
  },
  {
   "cell_type": "code",
   "execution_count": 55,
   "metadata": {},
   "outputs": [],
   "source": [
    "def mars_hemisphere():\n",
    "    hemisphere_url = \"https://astrogeology.usgs.gov/search/results?q=hemisphere+enhanced&k1=target&v1=Mars\"\n",
    "    driver.get(hemisphere_url)\n",
    "    html = driver.page_source\n",
    "    soup = BeautifulSoup(html, 'html.parser')\n",
    "    mars_hemisphere_list = []\n",
    "    products = soup.find(\"div\", class_ = \"result-list\" )\n",
    "    hemispheres = products.find_all(\"div\", class_=\"item\")\n",
    "\n",
    "    for hemisphere in hemispheres:\n",
    "        title = hemisphere.find(\"h3\").text\n",
    "        title = title.replace(\"Enhanced\", \"\")\n",
    "        end_link = hemisphere.find(\"a\")[\"href\"]\n",
    "        image_url = \"https://astrogeology.usgs.gov/\" + end_link\n",
    "        mars_hemisphere_list.append({\"title\": title, \"img_url\": image_url})\n",
    "\n",
    "    def get_high_res_url(some_url):\n",
    "        response = requests.get(some_url)\n",
    "        soup = BeautifulSoup(response.text, 'html.parser')\n",
    "        links = soup.find_all(\"a\")\n",
    "        tifs = [j for j in links if \".tif\" in j.attrs.get('href')]\n",
    "        return tifs[0].get('href')\n",
    "\n",
    "    updated_photos = []\n",
    "\n",
    "\n",
    "    for data in mars_hemisphere_list:\n",
    "        link_to_check = data.get('img_url')\n",
    "        title = data.get('title')\n",
    "        final_image_url = get_high_res_url(link_to_check)\n",
    "        updated_photos.append({\n",
    "            'Title': title,\n",
    "            'Url': final_image_url\n",
    "        })\n",
    "    return updated_photos    \n"
   ]
  },
  {
   "cell_type": "code",
   "execution_count": 56,
   "metadata": {},
   "outputs": [
    {
     "data": {
      "text/plain": [
       "[{'Title': 'Cerberus Hemisphere ',\n",
       "  'Url': 'http://astropedia.astrogeology.usgs.gov/download/Mars/Viking/cerberus_enhanced.tif/full.jpg'},\n",
       " {'Title': 'Schiaparelli Hemisphere ',\n",
       "  'Url': 'http://astropedia.astrogeology.usgs.gov/download/Mars/Viking/schiaparelli_enhanced.tif/full.jpg'},\n",
       " {'Title': 'Syrtis Major Hemisphere ',\n",
       "  'Url': 'http://astropedia.astrogeology.usgs.gov/download/Mars/Viking/syrtis_major_enhanced.tif/full.jpg'},\n",
       " {'Title': 'Valles Marineris Hemisphere ',\n",
       "  'Url': 'http://astropedia.astrogeology.usgs.gov/download/Mars/Viking/valles_marineris_enhanced.tif/full.jpg'}]"
      ]
     },
     "execution_count": 56,
     "metadata": {},
     "output_type": "execute_result"
    }
   ],
   "source": [
    "mars_hemisphere()"
   ]
  },
  {
   "cell_type": "code",
   "execution_count": 57,
   "metadata": {},
   "outputs": [],
   "source": [
    "def scrape():\n",
    "    final_data = {}\n",
    "    output = marsNews()\n",
    "    final_data[\"mars_news\"] = marsNews()\n",
    "    final_data[\"mars_image\"] = marsImage()\n",
    "    final_data[\"mars_weather\"] = marsWeather()\n",
    "    final_data[\"mars_facts\"] = marsFacts()\n",
    "    final_data[\"mars_hemisphere\"] = marsHemisphere()\n",
    "\n",
    "    return final_data"
   ]
  },
  {
   "cell_type": "code",
   "execution_count": 58,
   "metadata": {},
   "outputs": [
    {
     "ename": "NameError",
     "evalue": "name 'marsNews' is not defined",
     "output_type": "error",
     "traceback": [
      "\u001b[1;31m---------------------------------------------------------------------------\u001b[0m",
      "\u001b[1;31mNameError\u001b[0m                                 Traceback (most recent call last)",
      "\u001b[1;32m<ipython-input-58-20ef00fd5394>\u001b[0m in \u001b[0;36m<module>\u001b[1;34m()\u001b[0m\n\u001b[1;32m----> 1\u001b[1;33m \u001b[0mscrape\u001b[0m\u001b[1;33m(\u001b[0m\u001b[1;33m)\u001b[0m\u001b[1;33m\u001b[0m\u001b[0m\n\u001b[0m",
      "\u001b[1;32m<ipython-input-57-01fbcfb1a2aa>\u001b[0m in \u001b[0;36mscrape\u001b[1;34m()\u001b[0m\n\u001b[0;32m      1\u001b[0m \u001b[1;32mdef\u001b[0m \u001b[0mscrape\u001b[0m\u001b[1;33m(\u001b[0m\u001b[1;33m)\u001b[0m\u001b[1;33m:\u001b[0m\u001b[1;33m\u001b[0m\u001b[0m\n\u001b[0;32m      2\u001b[0m     \u001b[0mfinal_data\u001b[0m \u001b[1;33m=\u001b[0m \u001b[1;33m{\u001b[0m\u001b[1;33m}\u001b[0m\u001b[1;33m\u001b[0m\u001b[0m\n\u001b[1;32m----> 3\u001b[1;33m     \u001b[0moutput\u001b[0m \u001b[1;33m=\u001b[0m \u001b[0mmarsNews\u001b[0m\u001b[1;33m(\u001b[0m\u001b[1;33m)\u001b[0m\u001b[1;33m\u001b[0m\u001b[0m\n\u001b[0m\u001b[0;32m      4\u001b[0m     \u001b[0mfinal_data\u001b[0m\u001b[1;33m[\u001b[0m\u001b[1;34m\"mars_news\"\u001b[0m\u001b[1;33m]\u001b[0m \u001b[1;33m=\u001b[0m \u001b[0mmarsNews\u001b[0m\u001b[1;33m(\u001b[0m\u001b[1;33m)\u001b[0m\u001b[1;33m\u001b[0m\u001b[0m\n\u001b[0;32m      5\u001b[0m     \u001b[0mfinal_data\u001b[0m\u001b[1;33m[\u001b[0m\u001b[1;34m\"mars_image\"\u001b[0m\u001b[1;33m]\u001b[0m \u001b[1;33m=\u001b[0m \u001b[0mmarsImage\u001b[0m\u001b[1;33m(\u001b[0m\u001b[1;33m)\u001b[0m\u001b[1;33m\u001b[0m\u001b[0m\n",
      "\u001b[1;31mNameError\u001b[0m: name 'marsNews' is not defined"
     ]
    }
   ],
   "source": []
  },
  {
   "cell_type": "code",
   "execution_count": null,
   "metadata": {},
   "outputs": [],
   "source": []
  }
 ],
 "metadata": {
  "kernelspec": {
   "display_name": "Python 3",
   "language": "python",
   "name": "python3"
  },
  "language_info": {
   "codemirror_mode": {
    "name": "ipython",
    "version": 3
   },
   "file_extension": ".py",
   "mimetype": "text/x-python",
   "name": "python",
   "nbconvert_exporter": "python",
   "pygments_lexer": "ipython3",
   "version": "3.6.4"
  }
 },
 "nbformat": 4,
 "nbformat_minor": 2
}
